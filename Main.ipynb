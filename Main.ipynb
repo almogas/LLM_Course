{
 "cells": [
  {
   "cell_type": "code",
   "execution_count": null,
   "id": "516d07a2",
   "metadata": {},
   "outputs": [],
   "source": [
    "a=10\n",
    "print(a)\n"
   ]
  },
  {
   "cell_type": "code",
   "execution_count": null,
   "id": "2b47dc70",
   "metadata": {},
   "outputs": [],
   "source": [
    "import os\n",
    "from getpass import getpass\n",
    "\n",
    "os.environ[\"openai_api_key\"] = getpass(\"Enter your OpenAI API key: \")\n"
   ]
  },
  {
   "cell_type": "code",
   "execution_count": null,
   "id": "285cf3d4",
   "metadata": {},
   "outputs": [],
   "source": [
    "import os\n",
    "from langchain_openai import ChatOpenAI\n",
    "llm1 =ChatOpenAI(model='gpt-4.1-mini', temperature=0.1, openai_api_key=os.environ[\"openai_api_key\"])\n",
    "llm1.invoke(\"What is the capital of France?\").content\n",
    "\n"
   ]
  },
  {
   "cell_type": "code",
   "execution_count": null,
   "id": "94e92d80",
   "metadata": {},
   "outputs": [],
   "source": [
    "llm1.invoke(\"rewrite: hey, how are you doing today?\").content\n"
   ]
  },
  {
   "cell_type": "code",
   "execution_count": null,
   "id": "b510c9ef",
   "metadata": {},
   "outputs": [],
   "source": [
    "import os\n",
    "from getpass import getpass\n",
    "os.environ[\"HUGGINGFACEHUB_API_TOKEN\"] = getpass(\"Enter your Hugging Face token: \")"
   ]
  },
  {
   "cell_type": "code",
   "execution_count": null,
   "id": "dcf1f9be",
   "metadata": {},
   "outputs": [],
   "source": [
    "from langchain_huggingface import HuggingFaceEndpoint, ChatHuggingFace\n",
    "\n",
    "hlm = HuggingFaceEndpoint(repo_id=\"microsoft/Phi-3-mini-4k-instruct\", task=\"text-generation\", )\n",
    "chat = ChatHuggingFace(llm=hlm)\n",
    "ans =chat.invoke(\"What is the capital of France?\")\n",
    "ans.content\n"
   ]
  },
  {
   "cell_type": "code",
   "execution_count": null,
   "id": "ca221f91",
   "metadata": {},
   "outputs": [],
   "source": [
    "from langchain.llms import Ollama\n",
    "llm = Ollama(model=\"smollm:135m\")\n",
    "llm2 = Ollama(model=\"llama3.1:latest\")\n",
    "print(llm.invoke(\"climate comparison between tel aviv and jerusalme\"))"
   ]
  },
  {
   "cell_type": "code",
   "execution_count": null,
   "id": "ff79f046",
   "metadata": {},
   "outputs": [],
   "source": [
    "from langchain_community.llms import Ollama\n",
    "\n",
    "llm = Ollama(model=\"smollm:135m\")\n",
    "response = llm.invoke(\"climate comparison between tel aviv and jerusalem\")\n",
    "print(response)"
   ]
  },
  {
   "cell_type": "code",
   "execution_count": null,
   "id": "6beb2795",
   "metadata": {},
   "outputs": [],
   "source": [
    "m = [\n",
    "    {\"role\": \"system\", \"content\": \"You are a math teacher. explain the result\" },\n",
    "    {\"role\": \"human\", \"content\": \"how much is 7 mupltiple by 2?\" },\n",
    "]\n",
    "\n",
    "ai_msg = hlm.invoke(m,temperature=0.3)\n",
    "\n",
    "print(ai_msg)"
   ]
  },
  {
   "cell_type": "code",
   "execution_count": null,
   "id": "fda7375c",
   "metadata": {},
   "outputs": [],
   "source": [
    "ollm = Ollama(model=\"llama3.1:latest\")\n",
    "ms =[{\"role\": \"system\", \"content\": \"You are a math teacher. explain the result\" },\n",
    "    {\"role\": \"human\", \"content\": \"how much is 7 mupltiple by 2?\" },\n",
    "]\n",
    "\n",
    "response = llm.invoke(ms   , temperature=0.1)\n",
    "print(response)"
   ]
  },
  {
   "cell_type": "code",
   "execution_count": null,
   "id": "a1e29de8",
   "metadata": {},
   "outputs": [],
   "source": []
  },
  {
   "cell_type": "code",
   "execution_count": 19,
   "id": "70b22034",
   "metadata": {},
   "outputs": [
    {
     "name": "stdout",
     "output_type": "stream",
     "text": [
      "content='כמה זה 7 כפול 2?' additional_kwargs={'refusal': None} response_metadata={'token_usage': {'completion_tokens': 10, 'prompt_tokens': 33, 'total_tokens': 43, 'completion_tokens_details': {'accepted_prediction_tokens': 0, 'audio_tokens': 0, 'reasoning_tokens': 0, 'rejected_prediction_tokens': 0}, 'prompt_tokens_details': {'audio_tokens': 0, 'cached_tokens': 0}}, 'model_name': 'gpt-4.1-mini-2025-04-14', 'system_fingerprint': 'fp_79b79be41f', 'id': 'chatcmpl-BU84X58dTOnEjD3zROkQJbjFrRKFs', 'finish_reason': 'stop', 'logprobs': None} id='run-5e5c7498-6171-4adb-bee4-d74e6ec91218-0' usage_metadata={'input_tokens': 33, 'output_tokens': 10, 'total_tokens': 43, 'input_token_details': {'audio': 0, 'cache_read': 0}, 'output_token_details': {'audio': 0, 'reasoning': 0}}\n"
     ]
    }
   ],
   "source": [
    "msg = [{\"role\": \"system\", \"content\": \"You are a translator from english to hebrew.\" },\n",
    "    {\"role\": \"human\", \"content\": \"how much is 7 mupltiple by 2?\" },\n",
    "]\n",
    "resp= llm1.invoke(msg, temperature=0.1)\n",
    "print(resp)"
   ]
  },
  {
   "cell_type": "code",
   "execution_count": null,
   "id": "27673574",
   "metadata": {},
   "outputs": [],
   "source": []
  }
 ],
 "metadata": {
  "kernelspec": {
   "display_name": "Python 3",
   "language": "python",
   "name": "python3"
  },
  "language_info": {
   "codemirror_mode": {
    "name": "ipython",
    "version": 3
   },
   "file_extension": ".py",
   "mimetype": "text/x-python",
   "name": "python",
   "nbconvert_exporter": "python",
   "pygments_lexer": "ipython3",
   "version": "3.12.10"
  }
 },
 "nbformat": 4,
 "nbformat_minor": 5
}
